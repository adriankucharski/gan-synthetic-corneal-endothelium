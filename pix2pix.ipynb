{
 "cells": [
  {
   "cell_type": "code",
   "execution_count": 43,
   "metadata": {},
   "outputs": [
    {
     "data": {
      "text/plain": [
       "((640, 64, 64, 1), (640, 64, 64, 1), 18, 193)"
      ]
     },
     "execution_count": 43,
     "metadata": {},
     "output_type": "execute_result"
    }
   ],
   "source": [
    "from dataset import DataIterator, load_dataset\n",
    "import numpy as np\n",
    "from matplotlib import pyplot as plt\n",
    "from skimage import color\n",
    "\n",
    "data_path = \"./extra_data/Alizarine/folds.json\"\n",
    "train, test = load_dataset(data_path, True)[0]\n",
    "\n",
    "np.random.seed(10)\n",
    "\n",
    "dataset_mask = DataIterator(\n",
    "    train, 32, patch_per_image=32, inv_values=False).get_dataset()\n",
    "\n",
    "dataset_test = DataIterator(\n",
    "    test, 32, patch_per_image=64, inv_values=False).get_dataset()\n",
    "\n",
    "images, masks = dataset_test[1], dataset_mask[0]\n",
    "\n",
    "\n",
    "validation_data = np.asarray(\n",
    "    [color.gray2rgb((im[..., 0]+1) / 2 * 255) for im in images], dtype=np.uint8)\n",
    "# validation_data = np.transpose(validation_data, (0, 3, 1, 2))\n",
    "\n",
    "masks.shape, images.shape, validation_data.min(), validation_data.max()"
   ]
  },
  {
   "cell_type": "code",
   "execution_count": 95,
   "metadata": {},
   "outputs": [],
   "source": [
    "from pathlib import Path\n",
    "from keras import Model, Input, Sequential\n",
    "from keras.models import load_model\n",
    "import torch\n",
    "from skimage import io\n",
    "_ = torch.manual_seed(123)\n",
    "from torchmetrics.image.fid import FrechetInceptionDistance\n",
    "\n",
    "def remove_gaussian_from_model(model: Model) -> Model:\n",
    "    lay_1 = model.get_layer('conv2d_7')\n",
    "    lay_2 = model.get_layer('output')\n",
    "    x = lay_1(model.layers[-4].output)\n",
    "    x = lay_2(x)\n",
    "    new_model = Model(inputs=model.input, outputs=x)\n",
    "    return new_model\n",
    "\n",
    "imgs_dist1 = torch.from_numpy(validation_data)\n",
    "\n",
    "pd1 = f'R:/pd1/'\n",
    "pd2 = f'R:/pd2/'\n",
    "pdt = f'R:/pdt/'\n",
    "\n",
    "for k in range(len(validation_data)):\n",
    "    io.imsave(f'{pdt}{k}.png', validation_data[k])\n",
    "\n",
    "score1 = []\n",
    "score2 = []\n",
    "for i in range(21, 101, 10):\n",
    "    path1 = f'F:/Deep Learning/GAN-CNN-CE/generator/models/20220405-2359/model_{i}.h5'\n",
    "    path2 = f'R:/fit/20230318-025846/generators/gan_{i}.hdf5'\n",
    "    generator1: Model = remove_gaussian_from_model(load_model(path1))\n",
    "    generator2: Model = load_model(path2)\n",
    "\n",
    "    \n",
    "    new_mask1 = generator1.predict_on_batch([1 - masks, np.random.normal(size=masks.shape)])\n",
    "    imgs1 = np.asarray([color.gray2rgb((im[..., 0]+1) / 2 * 255) for im in new_mask1], dtype=np.uint8)\n",
    "    for k in range(len(imgs1)):\n",
    "        fp = f'{pd1}{i}/'\n",
    "        Path(fp).mkdir(exist_ok=True, parents=True)\n",
    "        io.imsave(f'{fp}{k}.png', imgs1[k])\n",
    "\n",
    "    new_mask2 = generator2.predict_on_batch(masks)\n",
    "    imgs2 = np.asarray([color.gray2rgb((im[..., 0]+1) / 2 * 255) for im in new_mask2], dtype=np.uint8)\n",
    "    for k in range(len(imgs2)):\n",
    "        fp = f'{pd2}{i}/'\n",
    "        Path(fp).mkdir(exist_ok=True, parents=True)\n",
    "        io.imsave(f'{fp}{k}.png', imgs2[k])\n",
    "\n",
    "    "
   ]
  },
  {
   "cell_type": "code",
   "execution_count": 97,
   "metadata": {},
   "outputs": [
    {
     "data": {
      "text/plain": [
       "0"
      ]
     },
     "execution_count": 97,
     "metadata": {},
     "output_type": "execute_result"
    },
    {
     "ename": "",
     "evalue": "",
     "output_type": "error",
     "traceback": [
      "\u001b[1;31mThe Kernel crashed while executing code in the the current cell or a previous cell. Please review the code in the cell(s) to identify a possible cause of the failure. Click <a href='https://aka.ms/vscodeJupyterKernelCrash'>here</a> for more info. View Jupyter <a href='command:jupyter.viewOutput'>log</a> for further details."
     ]
    }
   ],
   "source": [
    "\n"
   ]
  }
 ],
 "metadata": {
  "kernelspec": {
   "display_name": "Python 3",
   "language": "python",
   "name": "python3"
  },
  "language_info": {
   "codemirror_mode": {
    "name": "ipython",
    "version": 3
   },
   "file_extension": ".py",
   "mimetype": "text/x-python",
   "name": "python",
   "nbconvert_exporter": "python",
   "pygments_lexer": "ipython3",
   "version": "3.10.10"
  },
  "orig_nbformat": 4
 },
 "nbformat": 4,
 "nbformat_minor": 2
}
